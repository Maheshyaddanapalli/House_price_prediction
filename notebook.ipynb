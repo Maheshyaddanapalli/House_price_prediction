{
 "cells": [
  {
   "cell_type": "markdown",
   "metadata": {},
   "source": [
    "# 🏡 House Price Prediction using Machine Learning\n",
    "\n",
    "This notebook demonstrates how to build a machine learning model to predict house prices based on features such as area, bedrooms, bathrooms, location, and year built."
   ]
  },
  {
   "cell_type": "code",
   "execution_count": 1,
   "metadata": {},
   "outputs": [],
   "source": [
    "# Step 1: Import Libraries\n",
    "import pandas as pd\n",
    "import numpy as np\n",
    "from sklearn.model_selection import train_test_split\n",
    "from sklearn.preprocessing import LabelEncoder\n",
    "from sklearn.linear_model import LinearRegression\n",
    "from sklearn.metrics import mean_squared_error, r2_score"
   ]
  },
  {
   "cell_type": "code",
   "execution_count": 2,
   "metadata": {},
   "outputs": [],
   "source": [
    "# Step 2: Load Dataset\n",
    "# Example dataset (replace with your own CSV)\n",
    "data = pd.DataFrame({\n",
    "    'Area': [1200, 1800, 2500, 1500, 2200],\n",
    "    'Bedrooms': [2, 3, 4, 2, 3],\n",
    "    'Bathrooms': [2, 3, 3, 1, 2],\n",
    "    'Location': ['Hyderabad', 'Bangalore', 'Chennai', 'Hyderabad', 'Bangalore'],\n",
    "    'YearBuilt': [2015, 2010, 2018, 2012, 2016],\n",
    "    'Price': [4500000, 7500000, 12000000, 5000000, 8000000]\n",
    "})\n",
    "\n",
    "data.head()"
   ]
  },
  {
   "cell_type": "code",
   "execution_count": 3,
   "metadata": {},
   "outputs": [],
   "source": [
    "# Step 3: Preprocessing\n",
    "encoder = LabelEncoder()\n",
    "data['Location'] = encoder.fit_transform(data['Location'])\n",
    "\n",
    "X = data[['Area', 'Bedrooms', 'Bathrooms', 'Location', 'YearBuilt']]\n",
    "y = data['Price']\n",
    "\n",
    "X_train, X_test, y_train, y_test = train_test_split(X, y, test_size=0.2, random_state=42)"
   ]
  },
  {
   "cell_type": "code",
   "execution_count": 4,
   "metadata": {},
   "outputs": [],
   "source": [
    "# Step 4: Train Model\n",
    "model = LinearRegression()\n",
    "model.fit(X_train, y_train)\n",
    "\n",
    "y_pred = model.predict(X_test)"
   ]
  },
  {
   "cell_type": "code",
   "execution_count": 5,
   "metadata": {},
   "outputs": [],
   "source": [
    "# Step 5: Evaluate Model\n",
    "print(\"R² Score:\", r2_score(y_test, y_pred))\n",
    "print(\"RMSE:\", np.sqrt(mean_squared_error(y_test, y_pred)))"
   ]
  },
  {
   "cell_type": "code",
   "execution_count": 6,
   "metadata": {},
   "outputs": [],
   "source": [
    "# Step 6: Predict New House Price\n",
    "new_house = np.array([[2000, 3, 2, encoder.transform(['Hyderabad'])[0], 2016]])\n",
    "predicted_price = model.predict(new_house)\n",
    "print(\"Predicted House Price:\", predicted_price[0])"
   ]
  }
 ],
 "metadata": {
  "kernelspec": {
   "display_name": "Python 3",
   "language": "python",
   "name": "python3"
  },
  "language_info": {
   "name": "python",
   "version": "3.9"
  }
 },
 "nbformat": 4,
 "nbformat_minor": 2
}

